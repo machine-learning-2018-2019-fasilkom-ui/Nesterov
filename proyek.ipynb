{
 "cells": [
  {
   "cell_type": "code",
   "execution_count": 1,
   "metadata": {},
   "outputs": [
    {
     "name": "stderr",
     "output_type": "stream",
     "text": [
      "Using TensorFlow backend.\n"
     ]
    }
   ],
   "source": [
    "import keras\n",
    "from keras.datasets import mnist\n",
    "from keras.models import Sequential\n",
    "from keras.layers import Dense, Dropout, Flatten, Activation\n",
    "from keras.layers import Conv2D, MaxPooling2D, BatchNormalization\n",
    "import numpy as np"
   ]
  },
  {
   "cell_type": "code",
   "execution_count": 2,
   "metadata": {},
   "outputs": [],
   "source": [
    "IMG_SIZE = 300"
   ]
  },
  {
   "cell_type": "code",
   "execution_count": 3,
   "metadata": {},
   "outputs": [],
   "source": [
    "import json\n",
    "def readJSON(file):\n",
    "    with open(file) as f:\n",
    "        return json.load(f)"
   ]
  },
  {
   "cell_type": "code",
   "execution_count": 4,
   "metadata": {},
   "outputs": [],
   "source": [
    "train = readJSON('food41/meta/train.json')\n",
    "test = readJSON('food41/meta/test.json')"
   ]
  },
  {
   "cell_type": "code",
   "execution_count": null,
   "metadata": {},
   "outputs": [],
   "source": [
    "from PIL import Image as img\n",
    "from keras.preprocessing.image import ImageDataGenerator, array_to_img, img_to_array, load_img\n",
    "def loadImage(file):\n",
    "    return np.array([np.array(img.open('food41/images/'+i+'.jpg').resize((IMG_SIZE, IMG_SIZE), img.ANTIALIAS)) for i in file])"
   ]
  },
  {
   "cell_type": "code",
   "execution_count": null,
   "metadata": {},
   "outputs": [
    {
     "name": "stdout",
     "output_type": "stream",
     "text": [
      "0\n",
      "1\n",
      "2\n",
      "6\n",
      "7\n",
      "8\n"
     ]
    }
   ],
   "source": [
    "batch_size = 5\n",
    "num_classes = 6\n",
    "epochs = 2\n",
    "\n",
    "# tidak boleh\n",
    "ice_cream_train = loadImage(train.get('ice_cream'))\n",
    "ice_cream_test = loadImage(test.get('ice_cream'))\n",
    "print(0)\n",
    "donuts_train = loadImage(train.get('donuts'))\n",
    "donuts_test = loadImage(test.get('donuts'))\n",
    "print(1)\n",
    "french_fries_train = loadImage(train.get('french_fries'))\n",
    "french_fries_test = loadImage(test.get('french_fries'))\n",
    "print(2)\n",
    "\n",
    "# boleh\n",
    "waffles_train = loadImage(train.get('waffles'))\n",
    "waffles_test = loadImage(test.get('waffles'))\n",
    "print(6)\n",
    "miso_soup_train = loadImage(train.get('miso_soup'))\n",
    "miso_soup_test = loadImage(test.get('miso_soup'))\n",
    "print(7)\n",
    "sushi_train = loadImage(train.get('sushi'))\n",
    "sushi_test = loadImage(test.get('sushi'))\n",
    "print(8)\n",
    "\n"
   ]
  },
  {
   "cell_type": "code",
   "execution_count": null,
   "metadata": {},
   "outputs": [
    {
     "name": "stdout",
     "output_type": "stream",
     "text": [
      "done\n",
      "done\n",
      "done\n",
      "done\n"
     ]
    }
   ],
   "source": [
    "x_train = np.concatenate((\n",
    "    ice_cream_train,\n",
    "    donuts_train,\n",
    "    french_fries_train,\n",
    "    waffles_train,\n",
    "    miso_soup_train,\n",
    "    sushi_train),\n",
    "    axis=0\n",
    ")\n",
    "print(\"done\")\n",
    "x_test = np.concatenate((\n",
    "    ice_cream_test,\n",
    "    donuts_test,\n",
    "    french_fries_test,\n",
    "    waffles_test,\n",
    "    miso_soup_test,\n",
    "    sushi_test),\n",
    "    axis=0\n",
    ")\n",
    "print(\"done\")\n",
    "# generate y_train\n",
    "i = 0\n",
    "y_train = []\n",
    "count = 1\n",
    "while (i < num_classes):\n",
    "    if (count <= 750):\n",
    "        y_train.append(i)\n",
    "        count += 1\n",
    "    else:\n",
    "        i += 1\n",
    "        count=1\n",
    "print(\"done\")\n",
    "i = 0\n",
    "y_test = []\n",
    "count = 1\n",
    "while (i < num_classes):\n",
    "    if (count <= 250):\n",
    "        y_test.append(i)\n",
    "        count += 1\n",
    "    else:\n",
    "        i += 1\n",
    "        count=1\n",
    "print(\"done\")\n",
    "\n",
    "# convert class vectors to binary class matrices\n",
    "y_train = keras.utils.to_categorical(y_train, num_classes)\n",
    "y_test = keras.utils.to_categorical(y_test, num_classes)"
   ]
  },
  {
   "cell_type": "markdown",
   "metadata": {},
   "source": [
    "## CNN Model with ReLu Activation"
   ]
  },
  {
   "cell_type": "code",
   "execution_count": null,
   "metadata": {
    "scrolled": true
   },
   "outputs": [
    {
     "name": "stdout",
     "output_type": "stream",
     "text": [
      "WARNING:tensorflow:From /anaconda3/lib/python3.7/site-packages/tensorflow/python/framework/op_def_library.py:263: colocate_with (from tensorflow.python.framework.ops) is deprecated and will be removed in a future version.\n",
      "Instructions for updating:\n",
      "Colocations handled automatically by placer.\n",
      "WARNING:tensorflow:From /anaconda3/lib/python3.7/site-packages/keras/backend/tensorflow_backend.py:3445: calling dropout (from tensorflow.python.ops.nn_ops) with keep_prob is deprecated and will be removed in a future version.\n",
      "Instructions for updating:\n",
      "Please use `rate` instead of `keep_prob`. Rate should be set to `rate = 1 - keep_prob`.\n",
      "_________________________________________________________________\n",
      "Layer (type)                 Output Shape              Param #   \n",
      "=================================================================\n",
      "conv2d_1 (Conv2D)            (None, 298, 298, 32)      896       \n",
      "_________________________________________________________________\n",
      "conv2d_2 (Conv2D)            (None, 296, 296, 64)      18496     \n",
      "_________________________________________________________________\n",
      "max_pooling2d_1 (MaxPooling2 (None, 148, 148, 64)      0         \n",
      "_________________________________________________________________\n",
      "dropout_1 (Dropout)          (None, 148, 148, 64)      0         \n",
      "_________________________________________________________________\n",
      "flatten_1 (Flatten)          (None, 1401856)           0         \n",
      "_________________________________________________________________\n",
      "dense_1 (Dense)              (None, 6)                 8411142   \n",
      "=================================================================\n",
      "Total params: 8,430,534\n",
      "Trainable params: 8,430,534\n",
      "Non-trainable params: 0\n",
      "_________________________________________________________________\n"
     ]
    }
   ],
   "source": [
    "model = Sequential()\n",
    "model.add(Conv2D(32, kernel_size=(3, 3),\n",
    "                 activation='relu',\n",
    "                 input_shape=(IMG_SIZE,IMG_SIZE,3)))\n",
    "model.add(Conv2D(64, (3, 3), activation='relu'))\n",
    "model.add(MaxPooling2D(pool_size=(2, 2)))\n",
    "model.add(Dropout(0.5))\n",
    "model.add(Flatten())\n",
    "model.add(Dense(num_classes, activation='relu'))\n",
    "model.summary()"
   ]
  },
  {
   "cell_type": "code",
   "execution_count": null,
   "metadata": {},
   "outputs": [
    {
     "name": "stdout",
     "output_type": "stream",
     "text": [
      "WARNING:tensorflow:From /anaconda3/lib/python3.7/site-packages/tensorflow/python/ops/math_ops.py:3066: to_int32 (from tensorflow.python.ops.math_ops) is deprecated and will be removed in a future version.\n",
      "Instructions for updating:\n",
      "Use tf.cast instead.\n",
      "Train on 4500 samples, validate on 1500 samples\n",
      "Epoch 1/2\n",
      "4500/4500 [==============================] - 797s 177ms/step - loss: 9.2899 - acc: 0.2516 - val_loss: 8.5739 - val_acc: 0.2793\n",
      "Epoch 2/2\n",
      "4500/4500 [==============================] - 803s 178ms/step - loss: 8.7097 - acc: 0.2882 - val_loss: 8.7291 - val_acc: 0.2913\n",
      "Test loss: 8.72913640276591\n",
      "Test accuracy: 0.29133333333333333\n"
     ]
    }
   ],
   "source": [
    "model.compile(loss=keras.losses.categorical_crossentropy,\n",
    "              optimizer=keras.optimizers.Adadelta(),\n",
    "              metrics=['accuracy'])\n",
    "\n",
    "model.fit(x_train, y_train,\n",
    "          batch_size=batch_size,\n",
    "          epochs=epochs,\n",
    "          verbose=1,\n",
    "          validation_data=(x_test, y_test))\n",
    "score = model.evaluate(x_test, y_test, verbose=0)\n",
    "print('Test loss:', score[0])\n",
    "print('Test accuracy:', score[1])"
   ]
  },
  {
   "cell_type": "markdown",
   "metadata": {},
   "source": [
    "## CNN Model with Sigmoid Activation"
   ]
  },
  {
   "cell_type": "code",
   "execution_count": null,
   "metadata": {},
   "outputs": [
    {
     "name": "stdout",
     "output_type": "stream",
     "text": [
      "_________________________________________________________________\n",
      "Layer (type)                 Output Shape              Param #   \n",
      "=================================================================\n",
      "conv2d_3 (Conv2D)            (None, 298, 298, 32)      896       \n",
      "_________________________________________________________________\n",
      "conv2d_4 (Conv2D)            (None, 296, 296, 64)      18496     \n",
      "_________________________________________________________________\n",
      "max_pooling2d_2 (MaxPooling2 (None, 148, 148, 64)      0         \n",
      "_________________________________________________________________\n",
      "dropout_2 (Dropout)          (None, 148, 148, 64)      0         \n",
      "_________________________________________________________________\n",
      "flatten_2 (Flatten)          (None, 1401856)           0         \n",
      "_________________________________________________________________\n",
      "dense_2 (Dense)              (None, 6)                 8411142   \n",
      "=================================================================\n",
      "Total params: 8,430,534\n",
      "Trainable params: 8,430,534\n",
      "Non-trainable params: 0\n",
      "_________________________________________________________________\n"
     ]
    }
   ],
   "source": [
    "model = Sequential()\n",
    "model.add(Conv2D(32, kernel_size=(3, 3),\n",
    "                 activation='sigmoid',\n",
    "                 input_shape=(IMG_SIZE,IMG_SIZE,3)))\n",
    "model.add(Conv2D(64, (3, 3), activation='sigmoid'))\n",
    "model.add(MaxPooling2D(pool_size=(2, 2)))\n",
    "model.add(Dropout(0.5))\n",
    "model.add(Flatten())\n",
    "model.add(Dense(num_classes, activation='sigmoid'))\n",
    "model.summary()"
   ]
  },
  {
   "cell_type": "code",
   "execution_count": null,
   "metadata": {},
   "outputs": [
    {
     "name": "stdout",
     "output_type": "stream",
     "text": [
      "Train on 4500 samples, validate on 1500 samples\n",
      "Epoch 1/2\n",
      "4500/4500 [==============================] - 863s 192ms/step - loss: 8.6057 - acc: 0.1662 - val_loss: 8.6084 - val_acc: 0.1667\n",
      "Epoch 2/2\n",
      "4500/4500 [==============================] - 881s 196ms/step - loss: 8.6084 - acc: 0.1667 - val_loss: 8.6084 - val_acc: 0.1667\n",
      "Test loss: 8.608353861490885\n",
      "Test accuracy: 0.16666666666666666\n"
     ]
    }
   ],
   "source": [
    "model.compile(loss=keras.losses.categorical_crossentropy,\n",
    "              optimizer=keras.optimizers.Adadelta(),\n",
    "              metrics=['accuracy'])\n",
    "\n",
    "model.fit(x_train, y_train,\n",
    "          batch_size=batch_size,\n",
    "          epochs=epochs,\n",
    "          verbose=1,\n",
    "          validation_data=(x_test, y_test))\n",
    "score = model.evaluate(x_test, y_test, verbose=0)\n",
    "print('Test loss:', score[0])\n",
    "print('Test accuracy:', score[1])"
   ]
  },
  {
   "cell_type": "markdown",
   "metadata": {},
   "source": [
    "## CNN Model with ELU Activation"
   ]
  },
  {
   "cell_type": "code",
   "execution_count": null,
   "metadata": {},
   "outputs": [
    {
     "name": "stdout",
     "output_type": "stream",
     "text": [
      "_________________________________________________________________\n",
      "Layer (type)                 Output Shape              Param #   \n",
      "=================================================================\n",
      "conv2d_5 (Conv2D)            (None, 298, 298, 32)      896       \n",
      "_________________________________________________________________\n",
      "conv2d_6 (Conv2D)            (None, 296, 296, 64)      18496     \n",
      "_________________________________________________________________\n",
      "max_pooling2d_3 (MaxPooling2 (None, 148, 148, 64)      0         \n",
      "_________________________________________________________________\n",
      "dropout_3 (Dropout)          (None, 148, 148, 64)      0         \n",
      "_________________________________________________________________\n",
      "flatten_3 (Flatten)          (None, 1401856)           0         \n",
      "_________________________________________________________________\n",
      "dense_3 (Dense)              (None, 6)                 8411142   \n",
      "=================================================================\n",
      "Total params: 8,430,534\n",
      "Trainable params: 8,430,534\n",
      "Non-trainable params: 0\n",
      "_________________________________________________________________\n"
     ]
    }
   ],
   "source": [
    "model = Sequential()\n",
    "model.add(Conv2D(32, kernel_size=(3, 3),\n",
    "                 activation='elu',\n",
    "                 input_shape=(IMG_SIZE,IMG_SIZE,3)))\n",
    "model.add(Conv2D(64, (3, 3), activation='elu'))\n",
    "model.add(MaxPooling2D(pool_size=(2, 2)))\n",
    "model.add(Dropout(0.5))\n",
    "model.add(Flatten())\n",
    "model.add(Dense(num_classes, activation='elu'))\n",
    "model.summary()"
   ]
  },
  {
   "cell_type": "code",
   "execution_count": null,
   "metadata": {},
   "outputs": [
    {
     "name": "stdout",
     "output_type": "stream",
     "text": [
      "Train on 4500 samples, validate on 1500 samples\n",
      "Epoch 1/2\n",
      "4500/4500 [==============================] - 868s 193ms/step - loss: 13.4299 - acc: 0.1662 - val_loss: 13.4317 - val_acc: 0.1667\n",
      "Epoch 2/2\n",
      "4500/4500 [==============================] - 883s 196ms/step - loss: 13.4290 - acc: 0.1664 - val_loss: 13.4317 - val_acc: 0.1667\n",
      "Test loss: 13.431746172587077\n",
      "Test accuracy: 0.16666666666666666\n"
     ]
    }
   ],
   "source": [
    "model.compile(loss=keras.losses.categorical_crossentropy,\n",
    "              optimizer=keras.optimizers.Adadelta(),\n",
    "              metrics=['accuracy'])\n",
    "\n",
    "model.fit(x_train, y_train,\n",
    "          batch_size=batch_size,\n",
    "          epochs=epochs,\n",
    "          verbose=1,\n",
    "          validation_data=(x_test, y_test))\n",
    "score = model.evaluate(x_test, y_test, verbose=0)\n",
    "print('Test loss:', score[0])\n",
    "print('Test accuracy:', score[1])"
   ]
  }
 ],
 "metadata": {
  "kernelspec": {
   "display_name": "Python 3",
   "language": "python",
   "name": "python3"
  },
  "language_info": {
   "codemirror_mode": {
    "name": "ipython",
    "version": 3
   },
   "file_extension": ".py",
   "mimetype": "text/x-python",
   "name": "python",
   "nbconvert_exporter": "python",
   "pygments_lexer": "ipython3",
   "version": "3.7.1"
  }
 },
 "nbformat": 4,
 "nbformat_minor": 2
}
